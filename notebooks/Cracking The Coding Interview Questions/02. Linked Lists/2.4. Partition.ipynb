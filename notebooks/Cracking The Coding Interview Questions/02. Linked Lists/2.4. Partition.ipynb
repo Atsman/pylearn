{
 "cells": [
  {
   "cell_type": "code",
   "execution_count": 1,
   "metadata": {},
   "outputs": [],
   "source": [
    "from ipynb.fs.full.linkedlist import LinkedList, Node"
   ]
  },
  {
   "cell_type": "code",
   "execution_count": 4,
   "metadata": {},
   "outputs": [],
   "source": [
    "def partition(ll, val):\n",
    "    rl = LinkedList()\n",
    "    \n",
    "    n = ll.head\n",
    "    while n:\n",
    "        if n.value < val:\n",
    "            cn = Node(n.value)\n",
    "            cn.next = rl.head\n",
    "            rl.head = cn\n",
    "        else:\n",
    "            rl.append(n.value)\n",
    "        n = n.next\n",
    "    return rl"
   ]
  },
  {
   "cell_type": "code",
   "execution_count": 5,
   "metadata": {},
   "outputs": [
    {
     "data": {
      "text/plain": [
       "[1, 2, 3, 5, 8, 10]"
      ]
     },
     "execution_count": 5,
     "metadata": {},
     "output_type": "execute_result"
    }
   ],
   "source": [
    "ll = LinkedList()\n",
    "ll.append_all([3, 5, 8, 10, 2, 1])\n",
    "partition(ll, 5).to_list()"
   ]
  }
 ],
 "metadata": {
  "kernelspec": {
   "display_name": "Python 3",
   "language": "python",
   "name": "python3"
  },
  "language_info": {
   "codemirror_mode": {
    "name": "ipython",
    "version": 3
   },
   "file_extension": ".py",
   "mimetype": "text/x-python",
   "name": "python",
   "nbconvert_exporter": "python",
   "pygments_lexer": "ipython3",
   "version": "3.7.2"
  }
 },
 "nbformat": 4,
 "nbformat_minor": 2
}
