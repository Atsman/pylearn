{
 "cells": [
  {
   "cell_type": "code",
   "execution_count": 2,
   "metadata": {},
   "outputs": [],
   "source": [
    "from ipynb.fs.full.linkedlist import LinkedList, Node"
   ]
  },
  {
   "cell_type": "code",
   "execution_count": 43,
   "metadata": {},
   "outputs": [],
   "source": [
    "def sum_lists(l1, l2):\n",
    "    l1n = l1.head\n",
    "    l2n = l2.head\n",
    "    res = LinkedList()\n",
    "    \n",
    "    rem = 0\n",
    "    while l1n or l2n:\n",
    "        if l1n and l2n:\n",
    "            summ = l1n.value + l2n.value \n",
    "        elif l1n:\n",
    "            summ = l1n.value\n",
    "        else:\n",
    "            summ = l2n.value\n",
    "            \n",
    "        summ += rem\n",
    "        \n",
    "        if summ >= 10:\n",
    "            rem = summ // 10\n",
    "            summ %= 10\n",
    "            \n",
    "        res.append(summ)\n",
    "        \n",
    "        if l1n:\n",
    "            l1n = l1n.next\n",
    "        \n",
    "        if l2n:\n",
    "            l2n = l2n.next\n",
    "            \n",
    "    if rem > 0:\n",
    "        res.append(rem)\n",
    "        \n",
    "    return res\n",
    "        "
   ]
  },
  {
   "cell_type": "code",
   "execution_count": 44,
   "metadata": {},
   "outputs": [
    {
     "data": {
      "text/plain": [
       "[8, 9, 9, 1]"
      ]
     },
     "execution_count": 44,
     "metadata": {},
     "output_type": "execute_result"
    }
   ],
   "source": [
    "l1 = LinkedList()\n",
    "l1.append_all([9, 9, 9])\n",
    "l2 = LinkedList()\n",
    "l2.append_all([9, 9, 9])\n",
    "rl = sum_lists(l1, l2)\n",
    "rl.to_list()"
   ]
  }
 ],
 "metadata": {
  "kernelspec": {
   "display_name": "Python 3",
   "language": "python",
   "name": "python3"
  },
  "language_info": {
   "codemirror_mode": {
    "name": "ipython",
    "version": 3
   },
   "file_extension": ".py",
   "mimetype": "text/x-python",
   "name": "python",
   "nbconvert_exporter": "python",
   "pygments_lexer": "ipython3",
   "version": "3.7.2"
  }
 },
 "nbformat": 4,
 "nbformat_minor": 2
}
