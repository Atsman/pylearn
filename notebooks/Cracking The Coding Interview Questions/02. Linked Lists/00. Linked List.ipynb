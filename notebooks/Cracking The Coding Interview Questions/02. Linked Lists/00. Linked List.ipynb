{
 "cells": [
  {
   "cell_type": "code",
   "execution_count": 10,
   "metadata": {},
   "outputs": [],
   "source": [
    "class Node:\n",
    "    def __init__(this, value):\n",
    "        this.next = None\n",
    "        this.value = value"
   ]
  },
  {
   "cell_type": "code",
   "execution_count": 37,
   "metadata": {},
   "outputs": [],
   "source": [
    "class LinkedList:\n",
    "    def __init__(this):\n",
    "        this.head = None\n",
    "        \n",
    "    def append_to_tail(this, value):\n",
    "        end_node = Node(value)\n",
    "        \n",
    "        if this.head == None:\n",
    "            this.head = end_node\n",
    "            return\n",
    "        \n",
    "        current_node = this.head\n",
    "        while(current_node.next != None):\n",
    "            current_node = current_node.next\n",
    "        current_node.next = end_node\n",
    "    \n",
    "    def delete_node(this, value):\n",
    "        current_node = this.head\n",
    "        \n",
    "        if current_node == None:\n",
    "            return\n",
    "        \n",
    "        if current_node.value == value:\n",
    "            this.head = current_node.next\n",
    "            return\n",
    "        \n",
    "        while(current_node.next != None):\n",
    "            if current_node.next.value == value:\n",
    "                current_node.next = current_node.next.next\n",
    "                return\n",
    "            current_node = current_node.next\n",
    "    \n",
    "    def to_list(this):\n",
    "        res = []\n",
    "        \n",
    "        if this.head == None:\n",
    "            return res\n",
    "        \n",
    "        current_node = this.head\n",
    "        while (current_node != None):\n",
    "            res.append(current_node.value)\n",
    "            current_node = current_node.next\n",
    "            \n",
    "        return res"
   ]
  },
  {
   "cell_type": "code",
   "execution_count": 45,
   "metadata": {},
   "outputs": [],
   "source": [
    "ll = LinkedList()"
   ]
  },
  {
   "cell_type": "code",
   "execution_count": 46,
   "metadata": {},
   "outputs": [],
   "source": [
    "ll.append_to_tail(1)\n",
    "ll.append_to_tail(2)\n",
    "ll.append_to_tail(3)"
   ]
  },
  {
   "cell_type": "code",
   "execution_count": 47,
   "metadata": {},
   "outputs": [
    {
     "data": {
      "text/plain": [
       "[1, 2, 3]"
      ]
     },
     "execution_count": 47,
     "metadata": {},
     "output_type": "execute_result"
    }
   ],
   "source": [
    "ll.to_list()"
   ]
  },
  {
   "cell_type": "code",
   "execution_count": 52,
   "metadata": {},
   "outputs": [],
   "source": [
    "ll.delete_node(3)\n",
    "ll.delete_node(2)\n",
    "ll.delete_node(1)\n",
    "ll.delete_node(-1)"
   ]
  },
  {
   "cell_type": "code",
   "execution_count": 53,
   "metadata": {},
   "outputs": [
    {
     "data": {
      "text/plain": [
       "[]"
      ]
     },
     "execution_count": 53,
     "metadata": {},
     "output_type": "execute_result"
    }
   ],
   "source": [
    "ll.to_list()"
   ]
  },
  {
   "cell_type": "code",
   "execution_count": null,
   "metadata": {},
   "outputs": [],
   "source": []
  },
  {
   "cell_type": "code",
   "execution_count": null,
   "metadata": {},
   "outputs": [],
   "source": []
  }
 ],
 "metadata": {
  "kernelspec": {
   "display_name": "Python 3",
   "language": "python",
   "name": "python3"
  },
  "language_info": {
   "codemirror_mode": {
    "name": "ipython",
    "version": 3
   },
   "file_extension": ".py",
   "mimetype": "text/x-python",
   "name": "python",
   "nbconvert_exporter": "python",
   "pygments_lexer": "ipython3",
   "version": "3.7.2"
  }
 },
 "nbformat": 4,
 "nbformat_minor": 2
}
