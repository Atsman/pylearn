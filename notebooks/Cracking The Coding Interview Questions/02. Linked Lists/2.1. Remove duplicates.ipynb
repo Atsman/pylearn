{
 "cells": [
  {
   "cell_type": "code",
   "execution_count": 38,
   "metadata": {},
   "outputs": [],
   "source": [
    "from ipynb.fs.full.linkedlist import LinkedList"
   ]
  },
  {
   "cell_type": "code",
   "execution_count": 39,
   "metadata": {},
   "outputs": [],
   "source": [
    "def remove_duplicates(ll):\n",
    "    d = set()\n",
    "    n = ll.head\n",
    "    \n",
    "    if n == None:\n",
    "        return\n",
    "    \n",
    "    while (n and n.next):\n",
    "        d.add(n.value)\n",
    "        while (n.next and n.next.value in d):\n",
    "            n.next = n.next.next\n",
    "        n = n.next"
   ]
  },
  {
   "cell_type": "code",
   "execution_count": 40,
   "metadata": {},
   "outputs": [
    {
     "data": {
      "text/plain": [
       "[1, 2, 3, 4]"
      ]
     },
     "execution_count": 40,
     "metadata": {},
     "output_type": "execute_result"
    }
   ],
   "source": [
    "ll = LinkedList()\n",
    "ll.append_all([1, 2, 3, 2, 3, 4, 4])\n",
    "remove_duplicates(ll)\n",
    "ll.to_list()"
   ]
  },
  {
   "cell_type": "code",
   "execution_count": 47,
   "metadata": {},
   "outputs": [],
   "source": [
    "def remove_duplicates(ll):\n",
    "    p1 = ll.head\n",
    "    \n",
    "    if p1 == None:\n",
    "        return\n",
    "    \n",
    "    while (p1 and p1.next):\n",
    "        p2 = p1\n",
    "        \n",
    "        while(p2.next):\n",
    "            if p1.value == p2.next.value:\n",
    "                p2.next = p2.next.next\n",
    "            else:\n",
    "                p2 = p2.next\n",
    "        p1 = p1.next"
   ]
  },
  {
   "cell_type": "code",
   "execution_count": 48,
   "metadata": {},
   "outputs": [
    {
     "data": {
      "text/plain": [
       "[1, 2, 3, 4]"
      ]
     },
     "execution_count": 48,
     "metadata": {},
     "output_type": "execute_result"
    }
   ],
   "source": [
    "ll = LinkedList()\n",
    "ll.append_all([1, 2, 3, 2, 3, 4, 4])\n",
    "remove_duplicates(ll)\n",
    "ll.to_list()"
   ]
  },
  {
   "cell_type": "code",
   "execution_count": null,
   "metadata": {},
   "outputs": [],
   "source": []
  }
 ],
 "metadata": {
  "kernelspec": {
   "display_name": "Python 3",
   "language": "python",
   "name": "python3"
  },
  "language_info": {
   "codemirror_mode": {
    "name": "ipython",
    "version": 3
   },
   "file_extension": ".py",
   "mimetype": "text/x-python",
   "name": "python",
   "nbconvert_exporter": "python",
   "pygments_lexer": "ipython3",
   "version": "3.7.2"
  }
 },
 "nbformat": 4,
 "nbformat_minor": 2
}
