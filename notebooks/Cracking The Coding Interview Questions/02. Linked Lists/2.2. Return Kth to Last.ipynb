{
 "cells": [
  {
   "cell_type": "code",
   "execution_count": 1,
   "metadata": {},
   "outputs": [],
   "source": [
    "from ipynb.fs.full.linkedlist import LinkedList"
   ]
  },
  {
   "cell_type": "code",
   "execution_count": 25,
   "metadata": {},
   "outputs": [],
   "source": [
    "def kth_to_node(node, k):\n",
    "    n = node\n",
    "    c = 0\n",
    "    \n",
    "    while (n.next and c < k):\n",
    "        c += 1\n",
    "        n = n.next\n",
    "        \n",
    "    if c != k:\n",
    "        return\n",
    "    \n",
    "    return n\n",
    "\n",
    "def kth_to_last(ll, k):\n",
    "    if not ll.head:\n",
    "        return\n",
    "    \n",
    "    p1 = ll.head\n",
    "    p2 = kth_to_node(p1, k)\n",
    "    \n",
    "    if not p2:\n",
    "        return\n",
    "    \n",
    "    while (p2.next):\n",
    "        p1 = p1.next\n",
    "        p2 = p2.next\n",
    "        \n",
    "    return p1.value"
   ]
  },
  {
   "cell_type": "code",
   "execution_count": 26,
   "metadata": {},
   "outputs": [],
   "source": [
    "ll = LinkedList()\n",
    "ll.append_all([1, 2, 3, 4, 5])"
   ]
  },
  {
   "cell_type": "code",
   "execution_count": 34,
   "metadata": {},
   "outputs": [
    {
     "data": {
      "text/plain": [
       "3"
      ]
     },
     "execution_count": 34,
     "metadata": {},
     "output_type": "execute_result"
    }
   ],
   "source": [
    "kth_to_last(ll, 2)"
   ]
  }
 ],
 "metadata": {
  "kernelspec": {
   "display_name": "Python 3",
   "language": "python",
   "name": "python3"
  },
  "language_info": {
   "codemirror_mode": {
    "name": "ipython",
    "version": 3
   },
   "file_extension": ".py",
   "mimetype": "text/x-python",
   "name": "python",
   "nbconvert_exporter": "python",
   "pygments_lexer": "ipython3",
   "version": "3.7.2"
  }
 },
 "nbformat": 4,
 "nbformat_minor": 2
}
