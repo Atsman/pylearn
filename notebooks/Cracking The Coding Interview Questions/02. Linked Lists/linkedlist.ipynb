{
 "cells": [
  {
   "cell_type": "code",
   "execution_count": 4,
   "metadata": {},
   "outputs": [],
   "source": [
    "class Node:\n",
    "    def __init__(this, value):\n",
    "        this.next = None\n",
    "        this.value = value"
   ]
  },
  {
   "cell_type": "code",
   "execution_count": 5,
   "metadata": {},
   "outputs": [],
   "source": [
    "class LinkedList:\n",
    "    def __init__(this):\n",
    "        this.head = None\n",
    "        \n",
    "    def append_all(this, values):\n",
    "        for value in values:\n",
    "            this.append(value)\n",
    "        \n",
    "    def append(this, value):\n",
    "        \"\"\"Appends value to tail\"\"\"\n",
    "        end_node = Node(value)\n",
    "        \n",
    "        if not this.head:\n",
    "            this.head = end_node\n",
    "            return\n",
    "        \n",
    "        n = this.head\n",
    "        while n.next:\n",
    "            n = n.next\n",
    "        n.next = end_node\n",
    "        \n",
    "    def find(this, value):\n",
    "        n = this.head\n",
    "        while (n):\n",
    "            if n.value == value:\n",
    "                return n\n",
    "            n = n.next\n",
    "        return n\n",
    "    \n",
    "    def last(this):\n",
    "        n = this.head\n",
    "        while n.next:\n",
    "            n = n.next\n",
    "        return n\n",
    "    \n",
    "    def remove(this, value):\n",
    "        n = this.head\n",
    "        \n",
    "        if n == None:\n",
    "            return\n",
    "        \n",
    "        if n.value == value:\n",
    "            this.head = n.next\n",
    "            return\n",
    "        \n",
    "        while(n.next != None):\n",
    "            if n.next.value == value:\n",
    "                n.next = n.next.next\n",
    "                return\n",
    "            n = n.next\n",
    "    \n",
    "    def to_list(this):\n",
    "        res = []\n",
    "        \n",
    "        if this.head == None:\n",
    "            return res\n",
    "        \n",
    "        n = this.head\n",
    "        while (n != None):\n",
    "            res.append(n.value)\n",
    "            n = n.next\n",
    "            \n",
    "        return res"
   ]
  },
  {
   "cell_type": "code",
   "execution_count": null,
   "metadata": {},
   "outputs": [],
   "source": []
  }
 ],
 "metadata": {
  "kernelspec": {
   "display_name": "Python 3",
   "language": "python",
   "name": "python3"
  },
  "language_info": {
   "codemirror_mode": {
    "name": "ipython",
    "version": 3
   },
   "file_extension": ".py",
   "mimetype": "text/x-python",
   "name": "python",
   "nbconvert_exporter": "python",
   "pygments_lexer": "ipython3",
   "version": "3.7.2"
  }
 },
 "nbformat": 4,
 "nbformat_minor": 2
}
