{
 "cells": [
  {
   "cell_type": "code",
   "execution_count": 3,
   "metadata": {},
   "outputs": [],
   "source": [
    "from ipynb.fs.full.linkedlist import LinkedList, Node"
   ]
  },
  {
   "cell_type": "code",
   "execution_count": 7,
   "metadata": {},
   "outputs": [],
   "source": [
    "def reverse_linked_list(ll):\n",
    "    rl = LinkedList()\n",
    "    n = ll.head\n",
    "    while n:\n",
    "        rl.prepend(n.value)\n",
    "        n = n.next\n",
    "    return rl\n",
    "\n",
    "def is_palindrome(ll):\n",
    "    rl = reverse_linked_list(ll)\n",
    "    \n",
    "    nn = ll.head\n",
    "    rn = rl.head\n",
    "    while nn and rn:\n",
    "        if nn.value != rn.value:\n",
    "            return False\n",
    "        \n",
    "        nn = nn.next\n",
    "        rn = rn.next\n",
    "    \n",
    "    return True"
   ]
  },
  {
   "cell_type": "code",
   "execution_count": 9,
   "metadata": {},
   "outputs": [
    {
     "data": {
      "text/plain": [
       "True"
      ]
     },
     "execution_count": 9,
     "metadata": {},
     "output_type": "execute_result"
    }
   ],
   "source": [
    "ll = LinkedList()\n",
    "ll.append_all([1, 2, 4, 2, 1])\n",
    "is_palindrome(ll)"
   ]
  }
 ],
 "metadata": {
  "kernelspec": {
   "display_name": "Python 3",
   "language": "python",
   "name": "python3"
  },
  "language_info": {
   "codemirror_mode": {
    "name": "ipython",
    "version": 3
   },
   "file_extension": ".py",
   "mimetype": "text/x-python",
   "name": "python",
   "nbconvert_exporter": "python",
   "pygments_lexer": "ipython3",
   "version": "3.7.2"
  }
 },
 "nbformat": 4,
 "nbformat_minor": 2
}
