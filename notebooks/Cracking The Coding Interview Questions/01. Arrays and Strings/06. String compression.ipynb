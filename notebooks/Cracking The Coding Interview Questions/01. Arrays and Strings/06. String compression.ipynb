{
 "cells": [
  {
   "cell_type": "code",
   "execution_count": 1,
   "metadata": {},
   "outputs": [],
   "source": [
    "from collections import Counter"
   ]
  },
  {
   "cell_type": "code",
   "execution_count": 5,
   "metadata": {},
   "outputs": [],
   "source": [
    "def compress_string(s):\n",
    "    c = Counter(s)\n",
    "    \n",
    "    res = ''\n",
    "    for k in c.keys():\n",
    "        res += k + str(c[k])\n",
    "    return res"
   ]
  },
  {
   "cell_type": "code",
   "execution_count": 30,
   "metadata": {},
   "outputs": [],
   "source": [
    "def compress_string2(s):\n",
    "    temp_list = []\n",
    "    current_ch = s[0]\n",
    "    count = 0\n",
    "    for i, ch in enumerate(s):\n",
    "        if ch == current_ch:\n",
    "            count += 1\n",
    "        \n",
    "        if ch != current_ch or i == len(s) - 1:\n",
    "            temp_list.append(current_ch)\n",
    "            temp_list.append(str(count))\n",
    "            current_ch = ch\n",
    "            count = 1\n",
    "            \n",
    "    res = ''.join(temp_list)\n",
    "    \n",
    "    if len(s) > len(res):\n",
    "        return res\n",
    "    else:\n",
    "        return s"
   ]
  },
  {
   "cell_type": "code",
   "execution_count": 31,
   "metadata": {},
   "outputs": [
    {
     "data": {
      "text/plain": [
       "'a3b3c4d2'"
      ]
     },
     "execution_count": 31,
     "metadata": {},
     "output_type": "execute_result"
    }
   ],
   "source": [
    "compress_string2('aaabbbccccdd')"
   ]
  },
  {
   "cell_type": "code",
   "execution_count": null,
   "metadata": {},
   "outputs": [],
   "source": []
  }
 ],
 "metadata": {
  "kernelspec": {
   "display_name": "Python 3",
   "language": "python",
   "name": "python3"
  },
  "language_info": {
   "codemirror_mode": {
    "name": "ipython",
    "version": 3
   },
   "file_extension": ".py",
   "mimetype": "text/x-python",
   "name": "python",
   "nbconvert_exporter": "python",
   "pygments_lexer": "ipython3",
   "version": "3.7.2"
  }
 },
 "nbformat": 4,
 "nbformat_minor": 2
}
