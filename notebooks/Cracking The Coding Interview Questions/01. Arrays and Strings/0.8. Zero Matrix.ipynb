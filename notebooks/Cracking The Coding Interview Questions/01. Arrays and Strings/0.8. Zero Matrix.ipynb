{
 "cells": [
  {
   "cell_type": "code",
   "execution_count": 25,
   "metadata": {},
   "outputs": [],
   "source": [
    "def find_zeros(arr, m, n):\n",
    "    rows = [False] * m\n",
    "    column = [False] * n\n",
    "    for i in range(m):\n",
    "        for j in range(n):\n",
    "            rows[i] = arr[i][j] == 0\n",
    "            column[j] = arr[i][j] == 0\n",
    "    return (rows, column)"
   ]
  },
  {
   "cell_type": "code",
   "execution_count": 26,
   "metadata": {},
   "outputs": [
    {
     "data": {
      "text/plain": [
       "([True, True], [False, False, True])"
      ]
     },
     "execution_count": 26,
     "metadata": {},
     "output_type": "execute_result"
    }
   ],
   "source": [
    "find_zeros([[1, 2, 0], [2, 4, 0]], 2, 3)"
   ]
  },
  {
   "cell_type": "code",
   "execution_count": 28,
   "metadata": {},
   "outputs": [],
   "source": [
    "def zero_matrix(arr, m, n):\n",
    "    (rows, columns) = find_zeros(arr, m, n)\n",
    "    \n",
    "    for i in range(m):\n",
    "        for j in range(n):\n",
    "            if rows[i] or columns[j]:\n",
    "                arr[i][j] = 0\n",
    "    \n",
    "    return arr"
   ]
  },
  {
   "cell_type": "code",
   "execution_count": 9,
   "metadata": {},
   "outputs": [
    {
     "data": {
      "text/plain": [
       "[[0, 0, 0], [2, 4, 0]]"
      ]
     },
     "execution_count": 9,
     "metadata": {},
     "output_type": "execute_result"
    }
   ],
   "source": [
    "zero_matrix([[1, 2, 0], [2, 4, 1]], 2, 3)"
   ]
  },
  {
   "cell_type": "code",
   "execution_count": null,
   "metadata": {},
   "outputs": [],
   "source": []
  }
 ],
 "metadata": {
  "kernelspec": {
   "display_name": "Python 3",
   "language": "python",
   "name": "python3"
  },
  "language_info": {
   "codemirror_mode": {
    "name": "ipython",
    "version": 3
   },
   "file_extension": ".py",
   "mimetype": "text/x-python",
   "name": "python",
   "nbconvert_exporter": "python",
   "pygments_lexer": "ipython3",
   "version": "3.7.2"
  }
 },
 "nbformat": 4,
 "nbformat_minor": 2
}
