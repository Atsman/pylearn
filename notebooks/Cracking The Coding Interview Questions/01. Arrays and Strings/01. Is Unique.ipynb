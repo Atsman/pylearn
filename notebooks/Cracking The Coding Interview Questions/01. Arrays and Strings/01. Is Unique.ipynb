{
 "cells": [
  {
   "cell_type": "markdown",
   "metadata": {},
   "source": [
    "# Is Unique\n",
    "\n",
    "Implement an algorithm to determine if a string has all unique characters. What if you can't use additional data structures?"
   ]
  },
  {
   "cell_type": "code",
   "execution_count": 11,
   "metadata": {},
   "outputs": [],
   "source": [
    "# Implementation with additional data structure\n",
    "\n",
    "def is_unique(s):\n",
    "    return len(s) == len(set(s))"
   ]
  },
  {
   "cell_type": "code",
   "execution_count": 12,
   "metadata": {},
   "outputs": [
    {
     "data": {
      "text/plain": [
       "True"
      ]
     },
     "execution_count": 12,
     "metadata": {},
     "output_type": "execute_result"
    }
   ],
   "source": [
    "is_unique(\"abcd\")"
   ]
  },
  {
   "cell_type": "code",
   "execution_count": 29,
   "metadata": {},
   "outputs": [],
   "source": [
    "# Implementation without additional data structure\n",
    "\n",
    "def is_unique2(s):\n",
    "    for i in range(len(s) - 1):\n",
    "        for j in range(i + 1, len(s)):\n",
    "            if s[i] == s[j]:\n",
    "                return False\n",
    "    return True"
   ]
  },
  {
   "cell_type": "code",
   "execution_count": 30,
   "metadata": {},
   "outputs": [
    {
     "name": "stdout",
     "output_type": "stream",
     "text": [
      "i: 0, j: 1\n",
      "i: 0, j: 2\n",
      "i: 0, j: 3\n",
      "i: 0, j: 4\n",
      "i: 0, j: 5\n",
      "i: 0, j: 6\n",
      "i: 1, j: 2\n",
      "i: 1, j: 3\n",
      "i: 1, j: 4\n",
      "i: 1, j: 5\n",
      "i: 1, j: 6\n",
      "i: 2, j: 3\n",
      "i: 2, j: 4\n",
      "i: 2, j: 5\n",
      "i: 2, j: 6\n",
      "i: 3, j: 4\n",
      "i: 3, j: 5\n",
      "i: 3, j: 6\n",
      "i: 4, j: 5\n",
      "i: 4, j: 6\n",
      "i: 5, j: 6\n"
     ]
    },
    {
     "data": {
      "text/plain": [
       "True"
      ]
     },
     "execution_count": 30,
     "metadata": {},
     "output_type": "execute_result"
    }
   ],
   "source": [
    "is_unique2(\"abcdefg\")"
   ]
  },
  {
   "cell_type": "code",
   "execution_count": null,
   "metadata": {},
   "outputs": [],
   "source": []
  },
  {
   "cell_type": "code",
   "execution_count": null,
   "metadata": {},
   "outputs": [],
   "source": []
  }
 ],
 "metadata": {
  "kernelspec": {
   "display_name": "Python 3",
   "language": "python",
   "name": "python3"
  },
  "language_info": {
   "codemirror_mode": {
    "name": "ipython",
    "version": 3
   },
   "file_extension": ".py",
   "mimetype": "text/x-python",
   "name": "python",
   "nbconvert_exporter": "python",
   "pygments_lexer": "ipython3",
   "version": "3.7.2"
  }
 },
 "nbformat": 4,
 "nbformat_minor": 2
}
