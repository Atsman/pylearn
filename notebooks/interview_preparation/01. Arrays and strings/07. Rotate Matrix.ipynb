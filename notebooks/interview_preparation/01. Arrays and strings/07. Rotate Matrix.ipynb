{
 "cells": [
  {
   "cell_type": "code",
   "execution_count": 40,
   "metadata": {},
   "outputs": [],
   "source": [
    "def create_matrix(n):\n",
    "    m = []\n",
    "    for _ in range(n):\n",
    "        l = []\n",
    "        for _ in range(n):\n",
    "            l.append(0)\n",
    "        m.append(l)\n",
    "    return m\n",
    "    \n",
    "\n",
    "def rotate_matrix(m):\n",
    "    N = len(m)\n",
    "    nm = create_matrix(N)\n",
    "    \n",
    "    for i in range(N):\n",
    "        for j in range(N):\n",
    "            ni = N - 1 - j\n",
    "            nj = i\n",
    "            nm[ni][nj] = m[i][j]\n",
    "    return nm"
   ]
  },
  {
   "cell_type": "code",
   "execution_count": 54,
   "metadata": {},
   "outputs": [
    {
     "name": "stdout",
     "output_type": "stream",
     "text": [
      "i: 0, j: 0, ni: 2, nj: 0, v: 1, nv: 7\n",
      "i: 0, j: 1, ni: 1, nj: 0, v: 2, nv: 4\n",
      "i: 0, j: 2, ni: 0, nj: 0, v: 3, nv: 1\n",
      "i: 1, j: 0, ni: 2, nj: 1, v: 4, nv: 8\n",
      "i: 1, j: 1, ni: 1, nj: 1, v: 5, nv: 5\n",
      "i: 1, j: 2, ni: 0, nj: 1, v: 6, nv: 2\n",
      "i: 2, j: 0, ni: 2, nj: 2, v: 7, nv: 9\n",
      "i: 2, j: 1, ni: 1, nj: 2, v: 8, nv: 6\n",
      "i: 2, j: 2, ni: 0, nj: 2, v: 9, nv: 3\n"
     ]
    },
    {
     "data": {
      "text/plain": [
       "[[3, 6, 9], [2, 5, 8], [1, 4, 7]]"
      ]
     },
     "execution_count": 54,
     "metadata": {},
     "output_type": "execute_result"
    }
   ],
   "source": [
    "rotate_matrix([[1, 2, 3], [4, 5, 6], [7, 8, 9]])"
   ]
  },
  {
   "cell_type": "code",
   "execution_count": 67,
   "metadata": {},
   "outputs": [],
   "source": [
    "def rotate_matrix_in_place(m):\n",
    "    N = len(m)\n",
    "    for x in range(0, int(N / 2)):\n",
    "        for y in range(x, N - x - 1):\n",
    "            #print(\"x: {}, y: {}\".form(x, y))\n",
    "             # store current cell in temp variable \n",
    "            temp = m[x][y] \n",
    "  \n",
    "            # move values from right to top \n",
    "            m[x][y] = m[y][N-1-x] \n",
    "  \n",
    "            # move values from bottom to right \n",
    "            m[y][N-1-x] = m[N-1-x][N-1-y] \n",
    "  \n",
    "            # move values from left to bottom \n",
    "            m[N-1-x][N-1-y] = m[N-1-y][x] \n",
    "  \n",
    "            # assign temp to left \n",
    "            m[N-1-y][x] = temp \n",
    "    return m"
   ]
  },
  {
   "cell_type": "code",
   "execution_count": 68,
   "metadata": {},
   "outputs": [
    {
     "data": {
      "text/plain": [
       "[[3, 6, 9], [2, 5, 8], [1, 4, 7]]"
      ]
     },
     "execution_count": 68,
     "metadata": {},
     "output_type": "execute_result"
    }
   ],
   "source": [
    "rotate_matrix_in_place([[1, 2, 3], [4, 5, 6], [7, 8, 9]])"
   ]
  },
  {
   "cell_type": "code",
   "execution_count": null,
   "metadata": {},
   "outputs": [],
   "source": []
  }
 ],
 "metadata": {
  "kernelspec": {
   "display_name": "Python 3",
   "language": "python",
   "name": "python3"
  },
  "language_info": {
   "codemirror_mode": {
    "name": "ipython",
    "version": 3
   },
   "file_extension": ".py",
   "mimetype": "text/x-python",
   "name": "python",
   "nbconvert_exporter": "python",
   "pygments_lexer": "ipython3",
   "version": "3.7.2"
  }
 },
 "nbformat": 4,
 "nbformat_minor": 2
}
