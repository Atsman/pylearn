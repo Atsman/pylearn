{
 "cells": [
  {
   "cell_type": "code",
   "execution_count": 40,
   "metadata": {},
   "outputs": [],
   "source": [
    "def create_matrix(n):\n",
    "    m = []\n",
    "    for _ in range(n):\n",
    "        l = []\n",
    "        for _ in range(n):\n",
    "            l.append(0)\n",
    "        m.append(l)\n",
    "    return m\n",
    "    \n",
    "\n",
    "def rotate_matrix(m):\n",
    "    N = len(m)\n",
    "    nm = create_matrix(N)\n",
    "    \n",
    "    for i in range(N):\n",
    "        for j in range(N):\n",
    "            ni = N - 1 - j\n",
    "            nj = i\n",
    "            nm[ni][nj] = m[i][j]\n",
    "    return nm"
   ]
  },
  {
   "cell_type": "code",
   "execution_count": 54,
   "metadata": {},
   "outputs": [
    {
     "name": "stdout",
     "output_type": "stream",
     "text": [
      "i: 0, j: 0, ni: 2, nj: 0, v: 1, nv: 7\n",
      "i: 0, j: 1, ni: 1, nj: 0, v: 2, nv: 4\n",
      "i: 0, j: 2, ni: 0, nj: 0, v: 3, nv: 1\n",
      "i: 1, j: 0, ni: 2, nj: 1, v: 4, nv: 8\n",
      "i: 1, j: 1, ni: 1, nj: 1, v: 5, nv: 5\n",
      "i: 1, j: 2, ni: 0, nj: 1, v: 6, nv: 2\n",
      "i: 2, j: 0, ni: 2, nj: 2, v: 7, nv: 9\n",
      "i: 2, j: 1, ni: 1, nj: 2, v: 8, nv: 6\n",
      "i: 2, j: 2, ni: 0, nj: 2, v: 9, nv: 3\n"
     ]
    },
    {
     "data": {
      "text/plain": [
       "[[3, 6, 9], [2, 5, 8], [1, 4, 7]]"
      ]
     },
     "execution_count": 54,
     "metadata": {},
     "output_type": "execute_result"
    }
   ],
   "source": [
    "rotate_matrix([[1, 2, 3], [4, 5, 6], [7, 8, 9]])"
   ]
  },
  {
   "cell_type": "code",
   "execution_count": 13,
   "metadata": {},
   "outputs": [],
   "source": [
    "def rotate_matrix_in_place(m):\n",
    "    n = (len(m) - 1)\n",
    "    for i in range(n // 2):\n",
    "        for j in range(i, n - i):\n",
    "            print(\"i: {}, j: {}\".format(i, j))\n",
    "             # store current cell in temp variable \n",
    "            temp = m[i][j] \n",
    "  \n",
    "            # move values from right to top \n",
    "            m[i][j] = m[j][n-i] \n",
    "  \n",
    "            # move values from bottom to right \n",
    "            m[j][n-i] = m[n-i][n-j] \n",
    "  \n",
    "            # move values from left to bottom \n",
    "            m[n-i][n-j] = m[n-j][i] \n",
    "  \n",
    "            # assign temp to left \n",
    "            m[n-j][i] = temp \n",
    "    return m"
   ]
  },
  {
   "cell_type": "code",
   "execution_count": 15,
   "metadata": {},
   "outputs": [
    {
     "name": "stdout",
     "output_type": "stream",
     "text": [
      "i: 0, j: 0\n",
      "i: 0, j: 1\n",
      "i: 0, j: 2\n"
     ]
    },
    {
     "data": {
      "text/plain": [
       "[[4, 8, 12, 15], [3, 6, 7, 14], [2, 10, 11, 13], [1, 5, 9, 12]]"
      ]
     },
     "execution_count": 15,
     "metadata": {},
     "output_type": "execute_result"
    }
   ],
   "source": [
    "rotate_matrix_in_place([[1, 2, 3, 4], [5, 6, 7, 8], [9, 10, 11, 12], [12, 13, 14, 15]])"
   ]
  },
  {
   "cell_type": "code",
   "execution_count": 10,
   "metadata": {},
   "outputs": [
    {
     "data": {
      "text/plain": [
       "1"
      ]
     },
     "execution_count": 10,
     "metadata": {},
     "output_type": "execute_result"
    }
   ],
   "source": []
  },
  {
   "cell_type": "code",
   "execution_count": null,
   "metadata": {},
   "outputs": [],
   "source": []
  }
 ],
 "metadata": {
  "kernelspec": {
   "display_name": "Python 3",
   "language": "python",
   "name": "python3"
  },
  "language_info": {
   "codemirror_mode": {
    "name": "ipython",
    "version": 3
   },
   "file_extension": ".py",
   "mimetype": "text/x-python",
   "name": "python",
   "nbconvert_exporter": "python",
   "pygments_lexer": "ipython3",
   "version": "3.7.2"
  }
 },
 "nbformat": 4,
 "nbformat_minor": 2
}
