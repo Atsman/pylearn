{
 "cells": [
  {
   "cell_type": "code",
   "execution_count": 72,
   "metadata": {},
   "outputs": [],
   "source": [
    "def get_val(n, arr, i, j):\n",
    "    if i < 0 or i > n or j < 0 or j > n:\n",
    "        return 0\n",
    "    else:\n",
    "        return arr[i][j]\n",
    "\n",
    "def scan_all_directions(n, arr, i, j):\n",
    "    count = 1\n",
    "    arr[i][j] = -1\n",
    "    \n",
    "    if i > n or j > n:\n",
    "        return count\n",
    "    \n",
    "    directions = [[-1, 0], [-1, -1], [0, -1], [1, -1], [1, 0], [1, 1], [0, 1], [-1, 1]]\n",
    "    \n",
    "    for [ix, jx] in directions:\n",
    "        ni = i + ix\n",
    "        nj = j + jx\n",
    "        if get_val(n, arr, ni, nj) <= 0:\n",
    "            continue\n",
    "        count += scan_all_directions(n, arr, ni, nj)\n",
    "    \n",
    "    return count\n",
    "\n",
    "def find_max_region(arr):\n",
    "    n = len(arr)\n",
    "    max_direction = 0\n",
    "    for i in range(n):\n",
    "        for j in range(n):\n",
    "            v = get_val(n, arr, i, j)\n",
    "            if v == 0 or v == -1:\n",
    "                continue\n",
    "            new_max_direction = scan_all_directions(n-1, arr, i, j)\n",
    "            if new_max_direction > max_direction:\n",
    "                max_direction = new_max_direction\n",
    "    return max_direction "
   ]
  },
  {
   "cell_type": "code",
   "execution_count": 73,
   "metadata": {},
   "outputs": [
    {
     "data": {
      "text/plain": [
       "8"
      ]
     },
     "execution_count": 73,
     "metadata": {},
     "output_type": "execute_result"
    }
   ],
   "source": [
    "matrix = [\n",
    "    [0, 0, 0, 0, 0],\n",
    "    [0, 0, 0, 0, 0],\n",
    "    [0, 0, 1, 0, 1],\n",
    "    [1, 0, 0, 0, 1],\n",
    "    [1, 1, 1, 1, 1]\n",
    "]\n",
    "\n",
    "find_max_region(matrix)"
   ]
  },
  {
   "cell_type": "code",
   "execution_count": 76,
   "metadata": {},
   "outputs": [
    {
     "data": {
      "text/plain": [
       "5"
      ]
     },
     "execution_count": 76,
     "metadata": {},
     "output_type": "execute_result"
    }
   ],
   "source": [
    "matrix = [\n",
    "    [0, 0, 0, 0, 0],\n",
    "    [0, 0, 0, 0, 0],\n",
    "    [0, 1, 1, 0, 1],\n",
    "    [1, 1, 1, 0, 1],\n",
    "    [0, 0, 0, 0, 0]\n",
    "]\n",
    "\n",
    "find_max_region(matrix)"
   ]
  },
  {
   "cell_type": "code",
   "execution_count": null,
   "metadata": {},
   "outputs": [],
   "source": []
  }
 ],
 "metadata": {
  "kernelspec": {
   "display_name": "Python 3",
   "language": "python",
   "name": "python3"
  },
  "language_info": {
   "codemirror_mode": {
    "name": "ipython",
    "version": 3
   },
   "file_extension": ".py",
   "mimetype": "text/x-python",
   "name": "python",
   "nbconvert_exporter": "python",
   "pygments_lexer": "ipython3",
   "version": "3.7.3"
  }
 },
 "nbformat": 4,
 "nbformat_minor": 2
}
