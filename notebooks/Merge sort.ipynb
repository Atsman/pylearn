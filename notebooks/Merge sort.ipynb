{
 "cells": [
  {
   "cell_type": "code",
   "execution_count": 69,
   "metadata": {},
   "outputs": [],
   "source": [
    "def merge(arr, L, R):\n",
    "    i = j = k = 0\n",
    "          \n",
    "    # Copy data to temp arrays L[] and R[] \n",
    "    while i < len(L) and j < len(R): \n",
    "        if L[i] < R[j]: \n",
    "            arr[k] = L[i] \n",
    "            i+=1\n",
    "        else: \n",
    "            arr[k] = R[j] \n",
    "            j+=1\n",
    "        k+=1\n",
    "\n",
    "    # Checking if any element was left \n",
    "    while i < len(L): \n",
    "        arr[k] = L[i] \n",
    "        i+=1\n",
    "        k+=1\n",
    "\n",
    "    while j < len(R): \n",
    "        arr[k] = R[j] \n",
    "        j+=1\n",
    "        k+=1\n",
    "    \n",
    "\n",
    "def merge_sort(arr): \n",
    "    if len(arr) > 1: \n",
    "        mid = len(arr)//2 #Finding the mid of the array \n",
    "        L = arr[:mid] # Dividing the array elements  \n",
    "        R = arr[mid:] # into 2 halves \n",
    "  \n",
    "        merge_sort(L) # Sorting the first half \n",
    "        merge_sort(R) # Sorting the second half \n",
    "\n",
    "        merge(arr, L, R)\n",
    "        "
   ]
  },
  {
   "cell_type": "code",
   "execution_count": 70,
   "metadata": {},
   "outputs": [],
   "source": [
    "arr = [1, 2, 5, 3, 4, 10, -19]\n",
    "merge_sort(arr)"
   ]
  },
  {
   "cell_type": "code",
   "execution_count": 71,
   "metadata": {},
   "outputs": [
    {
     "data": {
      "text/plain": [
       "[-19, 1, 2, 3, 4, 5, 10]"
      ]
     },
     "execution_count": 71,
     "metadata": {},
     "output_type": "execute_result"
    }
   ],
   "source": [
    "arr"
   ]
  },
  {
   "cell_type": "code",
   "execution_count": null,
   "metadata": {},
   "outputs": [],
   "source": []
  },
  {
   "cell_type": "code",
   "execution_count": null,
   "metadata": {},
   "outputs": [],
   "source": []
  }
 ],
 "metadata": {
  "kernelspec": {
   "display_name": "Python 3",
   "language": "python",
   "name": "python3"
  },
  "language_info": {
   "codemirror_mode": {
    "name": "ipython",
    "version": 3
   },
   "file_extension": ".py",
   "mimetype": "text/x-python",
   "name": "python",
   "nbconvert_exporter": "python",
   "pygments_lexer": "ipython3",
   "version": "3.7.2"
  }
 },
 "nbformat": 4,
 "nbformat_minor": 2
}
