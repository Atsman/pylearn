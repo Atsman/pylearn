{
 "cells": [
  {
   "cell_type": "markdown",
   "metadata": {},
   "source": [
    "# One dimention peak finding"
   ]
  },
  {
   "cell_type": "code",
   "execution_count": 29,
   "metadata": {},
   "outputs": [],
   "source": [
    "def find_peak1(arr):\n",
    "    if len(arr) < 2:\n",
    "        return None\n",
    "    \n",
    "    n = len(arr) - 1\n",
    "    \n",
    "    for i in range(n + 1):\n",
    "        if i == 0 and arr[i] >= arr[i + 1]:\n",
    "            return arr[i]\n",
    "        \n",
    "        if i == n and arr[i] >= arr[i - 1]:\n",
    "            return arr[i]\n",
    "        \n",
    "        if arr[i] >= arr[i - 1] and arr[i] >= arr[i + 1]:\n",
    "            return arr[i]"
   ]
  },
  {
   "cell_type": "code",
   "execution_count": 30,
   "metadata": {},
   "outputs": [
    {
     "data": {
      "text/plain": [
       "9"
      ]
     },
     "execution_count": 30,
     "metadata": {},
     "output_type": "execute_result"
    }
   ],
   "source": [
    "find_peak1([4, 5, 7, 9])"
   ]
  },
  {
   "cell_type": "code",
   "execution_count": 25,
   "metadata": {},
   "outputs": [],
   "source": [
    "def find_peak_iter(arr, low, high, n):\n",
    "    middle = (low + high) // 2\n",
    "    \n",
    "    if ((middle == 0 or arr[middle - 1] <= arr[middle]) and\n",
    "        (middle == n - 1 or arr[middle + 1] <= arr[middle])):\n",
    "            return arr[middle]\n",
    "    elif middle > 0 and arr[middle] > arr[middle + 1]:\n",
    "        return find_peak_iter(arr, low, middle - 1, n)\n",
    "    else:\n",
    "        return find_peak_iter(arr, middle + 1, high, n)\n",
    "\n",
    "def find_peak2(arr):\n",
    "    return find_peak_iter(arr, 0, len(arr) - 1, len(arr))"
   ]
  },
  {
   "cell_type": "code",
   "execution_count": 22,
   "metadata": {},
   "outputs": [
    {
     "data": {
      "text/plain": [
       "5"
      ]
     },
     "execution_count": 22,
     "metadata": {},
     "output_type": "execute_result"
    }
   ],
   "source": [
    "find_peak2([1, 2, 5, 4, 5])"
   ]
  },
  {
   "cell_type": "markdown",
   "metadata": {},
   "source": []
  }
 ],
 "metadata": {
  "kernelspec": {
   "display_name": "Python 3",
   "language": "python",
   "name": "python3"
  },
  "language_info": {
   "codemirror_mode": {
    "name": "ipython",
    "version": 3
   },
   "file_extension": ".py",
   "mimetype": "text/x-python",
   "name": "python",
   "nbconvert_exporter": "python",
   "pygments_lexer": "ipython3",
   "version": "3.7.2"
  }
 },
 "nbformat": 4,
 "nbformat_minor": 2
}
