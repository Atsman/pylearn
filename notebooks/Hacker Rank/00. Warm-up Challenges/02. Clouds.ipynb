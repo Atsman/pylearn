{
 "cells": [
  {
   "cell_type": "markdown",
   "metadata": {},
   "source": [
    "# Jumping on the Clouds\n",
    "\n",
    "Number of jumps to get from start position to end.\n",
    "\n",
    "S = [0, 1, 0, \n"
   ]
  },
  {
   "cell_type": "code",
   "execution_count": 15,
   "metadata": {},
   "outputs": [],
   "source": [
    "def minimum_number_of_jumps(s):\n",
    "    position = 0\n",
    "    jumps = 0\n",
    "    for i in range(len(s)):\n",
    "        if position > i:\n",
    "            continue\n",
    "        \n",
    "        if i < len(s) - 2 and s[i+2] == 0:\n",
    "            position += 2\n",
    "            jumps += 1\n",
    "        elif i < len(s) - 1 and s[i+1] == 0:\n",
    "            position += 1\n",
    "            jumps += 1\n",
    "    \n",
    "    return jumps\n",
    "        "
   ]
  },
  {
   "cell_type": "code",
   "execution_count": 16,
   "metadata": {},
   "outputs": [
    {
     "data": {
      "text/plain": [
       "3"
      ]
     },
     "execution_count": 16,
     "metadata": {},
     "output_type": "execute_result"
    }
   ],
   "source": [
    "minimum_number_of_jumps([0, 0, 0, 0, 1, 0])"
   ]
  },
  {
   "cell_type": "code",
   "execution_count": null,
   "metadata": {},
   "outputs": [],
   "source": []
  }
 ],
 "metadata": {
  "kernelspec": {
   "display_name": "Python 3",
   "language": "python",
   "name": "python3"
  },
  "language_info": {
   "codemirror_mode": {
    "name": "ipython",
    "version": 3
   },
   "file_extension": ".py",
   "mimetype": "text/x-python",
   "name": "python",
   "nbconvert_exporter": "python",
   "pygments_lexer": "ipython3",
   "version": "3.7.2"
  }
 },
 "nbformat": 4,
 "nbformat_minor": 2
}
