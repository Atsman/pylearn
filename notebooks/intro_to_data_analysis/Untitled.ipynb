{
 "cells": [
  {
   "cell_type": "markdown",
   "metadata": {},
   "source": [
    "# Students data"
   ]
  },
  {
   "cell_type": "markdown",
   "metadata": {},
   "source": [
    "## Data description\n",
    "\n",
    "enrollments.csv:\n",
    "\n",
    "Data about a random subset of Data Analyst Nanodegree students who complete\n",
    "their first project and a random subset of students who do not.\n",
    "\n",
    "Columns:\n",
    "    - account_key:    A unique identifier for the account of the student who\n",
    "                     enrolled.\n",
    "\n",
    "    - status:         The enrollment status of the student at the time the data\n",
    "                      was collected. Possible values are 'canceled' and\n",
    "                      'current'.\n",
    "\n",
    "    - join_date:      The date the student enrolled.\n",
    "\n",
    "    - cancel_date:    The date the student canceled, or blank if the student has\n",
    "                      not yet canceled.\n",
    "\n",
    "    - days_to_cancel: The number of days between join_date and cancel_date, or\n",
    "                      blank if the student has not yet canceled.\n",
    "\n",
    "    - is_udacity:     True if the account is a Udacity test account, False\n",
    "                      otherwise.\n",
    "\n",
    "    - is_canceled:    True if the student had canceled this enrollment at the\n",
    "                      time the data was collected, False otherwise.\n",
    "\n",
    "-------------------------------------------------------------------------------\n",
    "\n",
    "daily_engagement.csv:\n",
    "\n",
    "Data about engagement within Data Analyst Nanodegree courses for each student in\n",
    "the enrollment table on each day they were enrolled. Includes a record even if\n",
    "there was no engagement that day. Includes engagement data from both the\n",
    "supporting courses for the Nanodegree program, and the corresponding freely\n",
    "available courses with the same content.\n",
    "\n",
    "Columns:\n",
    "    - acct:                  A unique identifier for the account of the student\n",
    "                             whose engagement data this is.\n",
    "\n",
    "    - utc_date:              The date for which the data was collected.\n",
    "\n",
    "    - num_courses_visited:   The total number of Data Analyst Nanodegree courses\n",
    "                             the student visited for at 2 minutes on this day.\n",
    "                             Nanodegree courses and freely available courses\n",
    "                             with the same content are counted separately.\n",
    "\n",
    "    - total_minutes_visited: The total number of minutes the student spent\n",
    "                             taking Data Analyst Nanodegree courses on this day.\n",
    "\n",
    "    - lessons_completed:     The total number of lessons within Data Analyst\n",
    "                             Nanodegree courses on this day.\n",
    "\n",
    "    - projects_completed:    The total number of Data Analyst Nanodegree\n",
    "                             projects the student completed on this day.\n",
    "\n",
    "-------------------------------------------------------------------------------\n",
    "\n",
    "project_submissions.csv:\n",
    "\n",
    "Data about submissions for Data Analyst Nanodegree projects for each student in\n",
    "the enrollment table.\n",
    "\n",
    "Columns:\n",
    "    - creation_date:    The date the project was submitted.\n",
    "\n",
    "    - completion_date:  The date the project was evaluated.\n",
    "\n",
    "    - assigned_rating:  This column has 4 possible values:\n",
    "                        blank - Project has not yet been evaluated.\n",
    "                        INCOMPLETE - Project did not meet specifications.\n",
    "                        PASSED - Project met specifications.\n",
    "                        DISTINCTION - Project exceeded specifications.\n",
    "                        UNGRADED - The submission could not be evaluated\n",
    "                                   (e.g. contained a corrupted file)\n",
    "\n",
    "    - account_key:      A unique identifier for the account of the student who\n",
    "                        submitted the project.\n",
    "\n",
    "    - lesson_key:       A unique identifier for the project that was submitted.\n",
    "\n",
    "    - processing_state: This column has 2 possible values:\n",
    "                        CREATED - Project has been submitted but not evaluated.\n",
    "                        EVALUATED - Project has been evaluated.\n",
    "\n",
    "-------------------------------------------------------------------------------\n",
    "\n",
    "daily_engagement_full.csv:\n",
    "\n",
    "Similar to daily_engagement.csv, but with engagement further broken down by\n",
    "course and with more columns available. This file is about 500 megabytes, which\n",
    "is why the smaller daily_engagement.csv file was created. This dataset is\n",
    "optional; it is not needed to complete the course.\n",
    "\n",
    "In addition to the following columns, this table also contains all the same\n",
    "columns as daily_engagement.csv, except with has_visited instead of\n",
    "num_courses_visited.\n",
    "\n",
    "Columns:\n",
    "    - registration_date:  Date the account was registered.\n",
    "\n",
    "    - subscription_start: Date paid subscription for the account started.\n",
    "\n",
    "    - course_key:         Course in which activity is recorded.\n",
    "\n",
    "    - sibling_key:        Free course with the same free content as course_key.\n",
    "                          If course_key is a free course, course_key and\n",
    "                          sibling_key are the same.\n",
    "\n",
    "    - course_title:       Title of the course.\n",
    "\n",
    "    - has_visited:        1 if the student visited this course for at least 2\n",
    "                          minutes on this day.\n",
    "\n"
   ]
  },
  {
   "cell_type": "markdown",
   "metadata": {},
   "source": [
    "## Read data"
   ]
  },
  {
   "cell_type": "code",
   "execution_count": 90,
   "metadata": {},
   "outputs": [],
   "source": [
    "import csv\n",
    "\n",
    "def open_csv(file_name):\n",
    "    with open(file_name, \"rt\") as f:\n",
    "        reader = csv.DictReader(f)\n",
    "        return list(reader)\n",
    "\n",
    "enrollments = open_csv(\"./enrollments.csv\")\n",
    "daily_engagement = open_csv(\"./daily_engagement.csv\")\n",
    "project_submissions = open_csv(\"./project_submissions.csv\")"
   ]
  },
  {
   "cell_type": "code",
   "execution_count": 91,
   "metadata": {},
   "outputs": [
    {
     "data": {
      "text/plain": [
       "OrderedDict([('account_key', '448'),\n",
       "             ('status', 'canceled'),\n",
       "             ('join_date', '2014-11-10'),\n",
       "             ('cancel_date', '2015-01-14'),\n",
       "             ('days_to_cancel', '65'),\n",
       "             ('is_udacity', 'True'),\n",
       "             ('is_canceled', 'True')])"
      ]
     },
     "execution_count": 91,
     "metadata": {},
     "output_type": "execute_result"
    }
   ],
   "source": [
    "enrollments[0]"
   ]
  },
  {
   "cell_type": "code",
   "execution_count": 92,
   "metadata": {},
   "outputs": [
    {
     "data": {
      "text/plain": [
       "OrderedDict([('acct', '0'),\n",
       "             ('utc_date', '2015-01-09'),\n",
       "             ('num_courses_visited', '1.0'),\n",
       "             ('total_minutes_visited', '11.6793745'),\n",
       "             ('lessons_completed', '0.0'),\n",
       "             ('projects_completed', '0.0')])"
      ]
     },
     "execution_count": 92,
     "metadata": {},
     "output_type": "execute_result"
    }
   ],
   "source": [
    "daily_engagement[0]"
   ]
  },
  {
   "cell_type": "code",
   "execution_count": 93,
   "metadata": {},
   "outputs": [
    {
     "data": {
      "text/plain": [
       "OrderedDict([('creation_date', '2015-01-14'),\n",
       "             ('completion_date', '2015-01-16'),\n",
       "             ('assigned_rating', 'UNGRADED'),\n",
       "             ('account_key', '256'),\n",
       "             ('lesson_key', '3176718735'),\n",
       "             ('processing_state', 'EVALUATED')])"
      ]
     },
     "execution_count": 93,
     "metadata": {},
     "output_type": "execute_result"
    }
   ],
   "source": [
    "project_submissions[0]"
   ]
  },
  {
   "cell_type": "markdown",
   "metadata": {},
   "source": [
    "## Convert data types"
   ]
  },
  {
   "cell_type": "code",
   "execution_count": 94,
   "metadata": {},
   "outputs": [],
   "source": [
    "from datetime import datetime as dt\n",
    "\n",
    "def parse_date(date):\n",
    "    if date == \"\":\n",
    "        return None\n",
    "    else:\n",
    "        return dt.strptime(date, \"%Y-%m-%d\")\n",
    "    \n",
    "def parse_int(i):\n",
    "    if i == \"\":\n",
    "        return None\n",
    "    else:\n",
    "        return int(i)\n",
    "\n",
    "def parse_float(f):\n",
    "    if f == \"\":\n",
    "        return None\n",
    "    else:\n",
    "        return float(f)\n",
    "    \n",
    "def parse_bool(b):\n",
    "    if b == 'True':\n",
    "        return True\n",
    "    else:\n",
    "        return False"
   ]
  },
  {
   "cell_type": "code",
   "execution_count": 95,
   "metadata": {},
   "outputs": [],
   "source": [
    "for enrollment in enrollments:\n",
    "    enrollment[\"account_key\"] = parse_int(enrollment[\"account_key\"])\n",
    "    enrollment[\"join_date\"] = parse_date(enrollment[\"join_date\"])\n",
    "    enrollment[\"cancel_date\"] = parse_date(enrollment[\"cancel_date\"])\n",
    "    enrollment[\"days_to_cancel\"] = parse_int(enrollment[\"days_to_cancel\"])\n",
    "    enrollment[\"is_udacity\"] = parse_bool(enrollment[\"is_udacity\"])\n",
    "    enrollment[\"is_canceled\"] = parse_bool(enrollment[\"is_canceled\"])\n",
    "    \n",
    "for engagement in daily_engagement:\n",
    "    engagement[\"account_key\"] = parse_int(engagement[\"acct\"])\n",
    "    del engagement[\"acct\"]\n",
    "    engagement[\"utc_date\"] = parse_date(engagement[\"utc_date\"])\n",
    "    engagement[\"num_courses_visited\"] = int(parse_float(engagement[\"num_courses_visited\"]))\n",
    "    engagement[\"total_minutes_visited\"] = parse_float(engagement[\"total_minutes_visited\"])\n",
    "    engagement[\"lessons_completed\"] = int(parse_float(engagement[\"lessons_completed\"]))\n",
    "    engagement[\"projects_completed\"] = int(parse_float(engagement[\"projects_completed\"]))\n",
    "    \n",
    "for submission in project_submissions:\n",
    "    submission[\"creation_date\"] = parse_date(submission[\"creation_date\"])\n",
    "    submission[\"completion_date\"] = parse_date(submission[\"completion_date\"])\n",
    "    submission[\"account_key\"] = parse_int(submission[\"account_key\"])\n",
    "    submission[\"lesson_key\"] = parse_int(submission[\"lesson_key\"])\n",
    "    "
   ]
  },
  {
   "cell_type": "code",
   "execution_count": 96,
   "metadata": {},
   "outputs": [
    {
     "data": {
      "text/plain": [
       "OrderedDict([('account_key', 448),\n",
       "             ('status', 'canceled'),\n",
       "             ('join_date', datetime.datetime(2014, 11, 10, 0, 0)),\n",
       "             ('cancel_date', datetime.datetime(2015, 1, 14, 0, 0)),\n",
       "             ('days_to_cancel', 65),\n",
       "             ('is_udacity', True),\n",
       "             ('is_canceled', True)])"
      ]
     },
     "execution_count": 96,
     "metadata": {},
     "output_type": "execute_result"
    }
   ],
   "source": [
    "enrollments[0]"
   ]
  },
  {
   "cell_type": "code",
   "execution_count": 97,
   "metadata": {},
   "outputs": [
    {
     "data": {
      "text/plain": [
       "OrderedDict([('utc_date', datetime.datetime(2015, 1, 9, 0, 0)),\n",
       "             ('num_courses_visited', 1),\n",
       "             ('total_minutes_visited', 11.6793745),\n",
       "             ('lessons_completed', 0),\n",
       "             ('projects_completed', 0),\n",
       "             ('account_key', 0)])"
      ]
     },
     "execution_count": 97,
     "metadata": {},
     "output_type": "execute_result"
    }
   ],
   "source": [
    "daily_engagement[0]"
   ]
  },
  {
   "cell_type": "code",
   "execution_count": 98,
   "metadata": {},
   "outputs": [
    {
     "data": {
      "text/plain": [
       "OrderedDict([('creation_date', datetime.datetime(2015, 1, 14, 0, 0)),\n",
       "             ('completion_date', datetime.datetime(2015, 1, 16, 0, 0)),\n",
       "             ('assigned_rating', 'UNGRADED'),\n",
       "             ('account_key', 256),\n",
       "             ('lesson_key', 3176718735),\n",
       "             ('processing_state', 'EVALUATED')])"
      ]
     },
     "execution_count": 98,
     "metadata": {},
     "output_type": "execute_result"
    }
   ],
   "source": [
    "project_submissions[0]"
   ]
  },
  {
   "cell_type": "markdown",
   "metadata": {},
   "source": [
    "## Question phase\n",
    "\n",
    "* How long to submit project?\n",
    "* How do students who their projects differ from those who don't?\n",
    "* How much time students spend taking classes?\n",
    "* How time spent relates to lessons / projects completed?\n",
    "* How engagement changes?\n",
    "* How many times students submit?"
   ]
  },
  {
   "cell_type": "code",
   "execution_count": null,
   "metadata": {},
   "outputs": [],
   "source": [
    "for "
   ]
  }
 ],
 "metadata": {
  "kernelspec": {
   "display_name": "Python 3",
   "language": "python",
   "name": "python3"
  },
  "language_info": {
   "codemirror_mode": {
    "name": "ipython",
    "version": 3
   },
   "file_extension": ".py",
   "mimetype": "text/x-python",
   "name": "python",
   "nbconvert_exporter": "python",
   "pygments_lexer": "ipython3",
   "version": "3.7.0"
  }
 },
 "nbformat": 4,
 "nbformat_minor": 2
}
