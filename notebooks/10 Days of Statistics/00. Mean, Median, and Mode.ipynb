{
 "cells": [
  {
   "cell_type": "code",
   "execution_count": 25,
   "metadata": {},
   "outputs": [],
   "source": [
    "from functools import reduce\n",
    "\n",
    "def mean(arr):\n",
    "    sum = reduce(lambda acc, x: acc + x,\n",
    "          arr,\n",
    "          0)\n",
    "    return sum / len(arr)\n",
    "    \n",
    "def median(arr):\n",
    "    arr.sort()\n",
    "    \n",
    "    m = (len(arr) - 1) // 2 \n",
    "    mi = m + 1\n",
    "    \n",
    "    return (arr[m] + arr[mi]) / 2\n",
    "    \n",
    "def mode(arr):\n",
    "    arr.sort()\n",
    "    \n",
    "    m = {}\n",
    "    maximum = arr[0]\n",
    "    maximum_count = 0\n",
    "    for n in arr:\n",
    "        if not n in m:\n",
    "            m[n] = 1\n",
    "        else:\n",
    "            m[n] += 1\n",
    "        \n",
    "        if m[n] > maximum_count:\n",
    "            maximum_count = m[n]\n",
    "            maximum = n\n",
    "    return maximum\n",
    "        \n",
    "def solution(arr):\n",
    "    print(mean(arr))\n",
    "    print(median(arr))\n",
    "    print(mode(arr))"
   ]
  },
  {
   "cell_type": "code",
   "execution_count": 26,
   "metadata": {},
   "outputs": [
    {
     "name": "stdout",
     "output_type": "stream",
     "text": [
      "43900.6\n",
      "44627.5\n",
      "4978\n"
     ]
    }
   ],
   "source": [
    "solution([64630, 11735, 14216, 99233, 14470, 4978, 73429, 38120, 51135, 67060])"
   ]
  },
  {
   "cell_type": "code",
   "execution_count": null,
   "metadata": {},
   "outputs": [],
   "source": []
  }
 ],
 "metadata": {
  "kernelspec": {
   "display_name": "Python 3",
   "language": "python",
   "name": "python3"
  },
  "language_info": {
   "codemirror_mode": {
    "name": "ipython",
    "version": 3
   },
   "file_extension": ".py",
   "mimetype": "text/x-python",
   "name": "python",
   "nbconvert_exporter": "python",
   "pygments_lexer": "ipython3",
   "version": "3.7.2"
  }
 },
 "nbformat": 4,
 "nbformat_minor": 2
}
