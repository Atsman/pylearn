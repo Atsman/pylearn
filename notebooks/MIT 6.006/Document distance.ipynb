{
 "cells": [
  {
   "cell_type": "markdown",
   "metadata": {},
   "source": [
    "# Document distance problem\n",
    "\n",
    "document - sequence of words\n",
    "word - string of alphanumeric chars\n",
    "idea - shared words\n",
    "think of a document as a vector\n",
    "D[w] = # occurrences of w in D\n",
    "\n",
    "D1 = 'the cat'\n",
    "D2 = 'the god'\n",
    "\n",
    "d'(D1, D2) = D1 * D2 = SUM(D1[w]*D2[w])\n",
    "\n",
    "d'(D1, D2) / |D1| * |D2|\n",
    "\n",
    "d(D1, D2) = arccos ->\n",
    "\n",
    "1. Split documents in words\n",
    "2. Count occurrences of w in each D\n",
    "3. Dot product"
   ]
  },
  {
   "cell_type": "code",
   "execution_count": 109,
   "metadata": {},
   "outputs": [],
   "source": [
    "import re\n",
    "import math"
   ]
  },
  {
   "cell_type": "code",
   "execution_count": 110,
   "metadata": {},
   "outputs": [],
   "source": [
    "def split_string(s):\n",
    "    return re.findall('\\w+', s)"
   ]
  },
  {
   "cell_type": "code",
   "execution_count": 111,
   "metadata": {},
   "outputs": [],
   "source": [
    "words = split_string('That is my test test document.')"
   ]
  },
  {
   "cell_type": "code",
   "execution_count": 112,
   "metadata": {},
   "outputs": [],
   "source": [
    "def count_words(ws):\n",
    "    result = []\n",
    "    for word in ws:\n",
    "        for entry in result:\n",
    "            if entry[0] == word:\n",
    "                entry[1] = entry[1] + 1\n",
    "                break\n",
    "        else:\n",
    "            result.append([word, 1])\n",
    "    return result"
   ]
  },
  {
   "cell_type": "code",
   "execution_count": 113,
   "metadata": {},
   "outputs": [
    {
     "data": {
      "text/plain": [
       "[['That', 1], ['is', 1], ['my', 1], ['test', 2], ['document', 1]]"
      ]
     },
     "execution_count": 113,
     "metadata": {},
     "output_type": "execute_result"
    }
   ],
   "source": [
    "count_words(words)"
   ]
  },
  {
   "cell_type": "code",
   "execution_count": 114,
   "metadata": {},
   "outputs": [
    {
     "data": {
      "text/plain": [
       "[['This', 1], ['is', 1], ['my', 2], ['really', 1], ['document', 1]]"
      ]
     },
     "execution_count": 114,
     "metadata": {},
     "output_type": "execute_result"
    }
   ],
   "source": [
    "count_words(split_string(\"This is my really my document.\"))"
   ]
  },
  {
   "cell_type": "code",
   "execution_count": 115,
   "metadata": {},
   "outputs": [],
   "source": [
    "def inner_product(l1, l2):\n",
    "    sum = 0.0\n",
    "    for word1, count1 in l1:\n",
    "        for word2, count2 in l2:\n",
    "            if word1 == word2:\n",
    "                sum += count1 * count2\n",
    "    return sum"
   ]
  },
  {
   "cell_type": "code",
   "execution_count": 116,
   "metadata": {},
   "outputs": [],
   "source": [
    "def vector_angle(l1, l2):\n",
    "    numerator = inner_product(l1, l2)\n",
    "    denominator = math.sqrt(inner_product(l1,l1) * inner_product(l2, l2))\n",
    "    return math.acos(numerator/denominator)"
   ]
  },
  {
   "cell_type": "code",
   "execution_count": 117,
   "metadata": {},
   "outputs": [],
   "source": [
    "def distance(d1, d2):\n",
    "    words1 = split_string(d1)\n",
    "    words2 = split_string(d2)\n",
    "    \n",
    "    freqs1 = count_words(words1)\n",
    "    freqs2 = count_words(words2)\n",
    "    \n",
    "    return vector_angle(freqs1, freqs2)"
   ]
  },
  {
   "cell_type": "code",
   "execution_count": 118,
   "metadata": {},
   "outputs": [
    {
     "data": {
      "text/plain": [
       "0.8410686705679303"
      ]
     },
     "execution_count": 118,
     "metadata": {},
     "output_type": "execute_result"
    }
   ],
   "source": [
    "distance(\"This is cat.\", \"This is dog.\")"
   ]
  },
  {
   "cell_type": "markdown",
   "metadata": {},
   "source": [
    "# Some optimizations"
   ]
  },
  {
   "cell_type": "code",
   "execution_count": 119,
   "metadata": {},
   "outputs": [],
   "source": [
    "def insertion_sort(arr):\n",
    "    for j in range(len(arr)):\n",
    "        key = arr[j]\n",
    "        i = j-1\n",
    "        while i>-1 and arr[i]>key:\n",
    "            arr[i+1] = arr[i]\n",
    "            i = i-1\n",
    "        arr[i+1] = key\n",
    "    return arr"
   ]
  },
  {
   "cell_type": "code",
   "execution_count": 120,
   "metadata": {},
   "outputs": [],
   "source": [
    "def word_frequencies_for_document(d):\n",
    "    words = split_string(d)\n",
    "    freqs = count_words(words)\n",
    "    insertion_sort(freqs)\n",
    "    return freqs"
   ]
  },
  {
   "cell_type": "code",
   "execution_count": 121,
   "metadata": {},
   "outputs": [],
   "source": [
    "def inner_product(l1, l2):\n",
    "    sum = 0.0\n",
    "    i = 0\n",
    "    j = 0\n",
    "    while i<len(l1) and j < len(l2):\n",
    "        if l1[i][0] == l2[j][0]:\n",
    "            sum += l1[i][1] * l2[j][1]\n",
    "            i += 1\n",
    "            j += 1\n",
    "        elif l1[i][0] < l2[j][0]:\n",
    "            i += 1\n",
    "        else:\n",
    "            j += 1\n",
    "    return sum"
   ]
  },
  {
   "cell_type": "code",
   "execution_count": 122,
   "metadata": {},
   "outputs": [],
   "source": [
    "def vector_angle(l1, l2):\n",
    "    numerator = inner_product(l1, l2)\n",
    "    denominator = math.sqrt(inner_product(l1,l1) * inner_product(l2, l2))\n",
    "    return math.acos(numerator/denominator)"
   ]
  },
  {
   "cell_type": "code",
   "execution_count": 123,
   "metadata": {},
   "outputs": [],
   "source": [
    "def distance(d1, d2):\n",
    "    freqs1 = word_frequencies_for_document(d1)\n",
    "    freqs2 = word_frequencies_for_document(d2)\n",
    "    return vector_angle(freqs1, freqs2)"
   ]
  },
  {
   "cell_type": "code",
   "execution_count": 124,
   "metadata": {},
   "outputs": [
    {
     "data": {
      "text/plain": [
       "0.8410686705679303"
      ]
     },
     "execution_count": 124,
     "metadata": {},
     "output_type": "execute_result"
    }
   ],
   "source": [
    "distance('This is dog.', 'This is fish.')"
   ]
  },
  {
   "cell_type": "markdown",
   "metadata": {},
   "source": [
    "# Optimizations"
   ]
  },
  {
   "cell_type": "code",
   "execution_count": 125,
   "metadata": {},
   "outputs": [],
   "source": [
    "def count_words(words):\n",
    "    d = {}\n",
    "    for new_word in words:\n",
    "        if new_word in d:\n",
    "            d[new_word] += 1\n",
    "        else:\n",
    "            d[new_word] = 1\n",
    "    return d.items()"
   ]
  },
  {
   "cell_type": "code",
   "execution_count": 127,
   "metadata": {},
   "outputs": [],
   "source": [
    "translation_table = str.maketrans(string.punctuation+string.ascii_uppercase, \" \"*len(string.punctuation)+string.ascii_lowercase)\n",
    "def split_string(s):\n",
    "    s = s.translate(translation_table)\n",
    "    return re.findall('\\w+', s)"
   ]
  },
  {
   "cell_type": "markdown",
   "metadata": {},
   "source": [
    "# Optimizations"
   ]
  },
  {
   "cell_type": "code",
   "execution_count": 129,
   "metadata": {},
   "outputs": [],
   "source": [
    "def merge_sort(arr):\n",
    "    n = len(arr)\n",
    "    if n == 1:\n",
    "        return arr\n",
    "    mid = n // 2\n",
    "    l = merge_sort(arr[:mid])\n",
    "    r = merge_sort(arr[mid:])\n",
    "    return merge(l, r)\n",
    "\n",
    "def merge(l, r):\n",
    "    i = 0\n",
    "    j = 0\n",
    "    result = []\n",
    "    while i < len(l) and j < len(r):\n",
    "        if l[i] < r[j]:\n",
    "            result.append(l[i])\n",
    "            i += 1\n",
    "        else:\n",
    "            result.append(r[j])\n",
    "            j += 1\n",
    "    if i < len(l):\n",
    "        result.extend(l[i:])\n",
    "    if j < len(r):\n",
    "        result.extend(r[j:])\n",
    "    return result"
   ]
  },
  {
   "cell_type": "code",
   "execution_count": 130,
   "metadata": {},
   "outputs": [],
   "source": [
    "def word_frequencies_for_document(d):\n",
    "    words = split_string(d)\n",
    "    freqs = count_words(words)\n",
    "    merge_sort(freqs)\n",
    "    return freqs"
   ]
  },
  {
   "cell_type": "markdown",
   "metadata": {},
   "source": [
    "# Final solution"
   ]
  },
  {
   "cell_type": "code",
   "execution_count": 136,
   "metadata": {},
   "outputs": [],
   "source": [
    "translation_table = str.maketrans(string.punctuation+string.ascii_uppercase, \" \"*len(string.punctuation)+string.ascii_lowercase)\n",
    "def split_string(s):\n",
    "    s = s.translate(translation_table)\n",
    "    return re.findall('\\w+', s)"
   ]
  },
  {
   "cell_type": "code",
   "execution_count": 137,
   "metadata": {},
   "outputs": [],
   "source": [
    "def count_words(words):\n",
    "    d = {}\n",
    "    for new_word in words:\n",
    "        if new_word in d:\n",
    "            d[new_word] += 1\n",
    "        else:\n",
    "            d[new_word] = 1\n",
    "    return d"
   ]
  },
  {
   "cell_type": "code",
   "execution_count": 138,
   "metadata": {},
   "outputs": [],
   "source": [
    "def inner_product(d1, d2):\n",
    "    sum = 0.0\n",
    "    for key in d1:\n",
    "        if key in d2:\n",
    "            sum += d1[key] * d2[key]\n",
    "    return sum"
   ]
  },
  {
   "cell_type": "code",
   "execution_count": 142,
   "metadata": {},
   "outputs": [],
   "source": [
    "def word_frequencies_for_document(d):\n",
    "    words = split_string(d)\n",
    "    return count_words(d)"
   ]
  },
  {
   "cell_type": "code",
   "execution_count": 143,
   "metadata": {},
   "outputs": [],
   "source": [
    "def vector_angle(l1, l2):\n",
    "    numerator = inner_product(l1, l2)\n",
    "    denominator = math.sqrt(inner_product(l1,l1) * inner_product(l2, l2))\n",
    "    return math.acos(numerator/denominator)"
   ]
  },
  {
   "cell_type": "code",
   "execution_count": 144,
   "metadata": {},
   "outputs": [],
   "source": [
    "def distance(d1, d2):\n",
    "    freqs1 = word_frequencies_for_document(d1)\n",
    "    freqs2 = word_frequencies_for_document(d2)\n",
    "    return vector_angle(freqs1, freqs2)"
   ]
  },
  {
   "cell_type": "code",
   "execution_count": 149,
   "metadata": {},
   "outputs": [
    {
     "data": {
      "text/plain": [
       "0.23066016459967767"
      ]
     },
     "execution_count": 149,
     "metadata": {},
     "output_type": "execute_result"
    }
   ],
   "source": [
    "distance('This is a cat and dog.', 'This is a dog and cat and bird.')"
   ]
  },
  {
   "cell_type": "code",
   "execution_count": null,
   "metadata": {},
   "outputs": [],
   "source": []
  },
  {
   "cell_type": "code",
   "execution_count": null,
   "metadata": {},
   "outputs": [],
   "source": []
  }
 ],
 "metadata": {
  "kernelspec": {
   "display_name": "Python 3",
   "language": "python",
   "name": "python3"
  },
  "language_info": {
   "codemirror_mode": {
    "name": "ipython",
    "version": 3
   },
   "file_extension": ".py",
   "mimetype": "text/x-python",
   "name": "python",
   "nbconvert_exporter": "python",
   "pygments_lexer": "ipython3",
   "version": "3.7.2"
  }
 },
 "nbformat": 4,
 "nbformat_minor": 2
}
